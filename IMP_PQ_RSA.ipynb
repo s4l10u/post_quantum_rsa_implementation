{
 "cells": [
  {
   "cell_type": "markdown",
   "metadata": {},
   "source": [
    "# Génération des clés"
   ]
  },
  {
   "cell_type": "code",
   "execution_count": 4,
   "metadata": {},
   "outputs": [],
   "source": [
    "import  numpy as np\n",
    "import gmpy2 \n",
    "from gmpy2 import mpz\n",
    "import sha3\n",
    "import hashlib\n",
    "\n",
    "B=64\n",
    "PBYTES=B/8\n",
    "K=64\n",
    "\n"
   ]
  },
  {
   "cell_type": "code",
   "execution_count": 6,
   "metadata": {},
   "outputs": [],
   "source": [
    "def random_prime():\n",
    "    while 1:\n",
    "        p=mpz(int('0x'+np.random.bytes(PBYTES).encode('hex'),16)).bit_set(int(0))\n",
    "        if gmpy2.t_mod(p,3)==2:\n",
    "            if gmpy2.is_prime(p)== true:\n",
    "                return p\n",
    "\n"
   ]
  },
  {
   "cell_type": "markdown",
   "metadata": {},
   "source": [
    "La fonction prime génère K notre premier sous forme forme de liste."
   ]
  },
  {
   "cell_type": "code",
   "execution_count": 7,
   "metadata": {},
   "outputs": [],
   "source": [
    "def primes():\n",
    "    \n",
    "    _primes=[]\n",
    "    \n",
    "    for x in range(0,K):\n",
    "        \n",
    "        p=random_prime()\n",
    "        \n",
    "        if (mpz(p) in _primes) == False:\n",
    "            \n",
    "            _primes.append(p)\n",
    "    \n",
    "    return _primes\n",
    "\n"
   ]
  },
  {
   "cell_type": "code",
   "execution_count": 8,
   "metadata": {},
   "outputs": [
    {
     "data": {
      "text/plain": [
       "[mpz(12410494247977089773),\n",
       " mpz(4943526551231590607),\n",
       " mpz(5369074672553018039),\n",
       " mpz(4675144526934937043),\n",
       " mpz(4899513839318180129),\n",
       " mpz(10136378862447130343),\n",
       " mpz(4346601003952269521),\n",
       " mpz(4903795472941411727),\n",
       " mpz(16225448218169938823),\n",
       " mpz(4027634374636166813),\n",
       " mpz(17709013258297326461),\n",
       " mpz(11455475479367613767),\n",
       " mpz(6068830248407200343),\n",
       " mpz(3459675459103523141),\n",
       " mpz(6797246460862712717),\n",
       " mpz(12876038769519416693),\n",
       " mpz(11626532744762336741),\n",
       " mpz(1109717153970166649),\n",
       " mpz(10010376020018019551),\n",
       " mpz(8889584897912812733),\n",
       " mpz(6154206890881326341),\n",
       " mpz(1322957405977140149),\n",
       " mpz(5953828085280450461),\n",
       " mpz(1204955905941209519),\n",
       " mpz(6037093608312106559),\n",
       " mpz(6928812703066306109),\n",
       " mpz(6904302545907385379),\n",
       " mpz(6195819295160359427),\n",
       " mpz(4641710627758470059),\n",
       " mpz(9530850085245937451),\n",
       " mpz(1803967602686324219),\n",
       " mpz(14548278707384870213),\n",
       " mpz(3089855877930785597),\n",
       " mpz(591270234981183311),\n",
       " mpz(3631253060663418503),\n",
       " mpz(2685480103482520307),\n",
       " mpz(15560647371620540219),\n",
       " mpz(13074041573653354433),\n",
       " mpz(2666812222835837717),\n",
       " mpz(16725265748940437399),\n",
       " mpz(1281264418251285851),\n",
       " mpz(17469731849360944859),\n",
       " mpz(10046805023720399603),\n",
       " mpz(10125181218412461599),\n",
       " mpz(17704797673304466419),\n",
       " mpz(4627976492166988421),\n",
       " mpz(9057469322522973893),\n",
       " mpz(4860886458856989359),\n",
       " mpz(13743403395317442941),\n",
       " mpz(13492951583737545683),\n",
       " mpz(6454470495099805949),\n",
       " mpz(12872322268554505109),\n",
       " mpz(16029819274985022977),\n",
       " mpz(10781815425141311333),\n",
       " mpz(1762213112762782913),\n",
       " mpz(10003830740265804569),\n",
       " mpz(16599297215283886277),\n",
       " mpz(12824693735251784369),\n",
       " mpz(12717491669350226063),\n",
       " mpz(1026248200778133269),\n",
       " mpz(12180242858232916013),\n",
       " mpz(17040319093583735513),\n",
       " mpz(11265799805279763713),\n",
       " mpz(14601699443069732129)]"
      ]
     },
     "execution_count": 8,
     "metadata": {},
     "output_type": "execute_result"
    }
   ],
   "source": [
    "_primes=primes()\n",
    "_primes"
   ]
  },
  {
   "cell_type": "markdown",
   "metadata": {},
   "source": [
    "les nombres premiers sont des entiers constitués de B bite. Avec la génération aléatoire les nombres premiers ainsi obtenus peuvent avoir un nombre de bits inférieur à B.  La fonction complet bit complète les nombres premiers inférieurs B par la chaine '0'."
   ]
  },
  {
   "cell_type": "code",
   "execution_count": 9,
   "metadata": {},
   "outputs": [],
   "source": [
    "def complet_bit(p,nbt_bit):\n",
    "    \n",
    "    c=p.digits(2)\n",
    "    \n",
    "    if len(c)< nbt_bit :\n",
    "        \n",
    "        while len(c)<nbt_bit:\n",
    "            \n",
    "            c='0'+c\n",
    "    \n",
    "    return c\n",
    "\n"
   ]
  },
  {
   "cell_type": "markdown",
   "metadata": {},
   "source": [
    "La cle publique de RSA post quantique est le produit de K nombre premier de taille B bite. La fonction Public Keys fait le produit de K nombre premier en utilisant des techniques de multiplication rapide comme la méthode de product tree la méthode de karatsuba."
   ]
  },
  {
   "cell_type": "code",
   "execution_count": 10,
   "metadata": {},
   "outputs": [],
   "source": [
    "def public_key(liste):\n",
    "    \n",
    "    mult=[]\n",
    "    \n",
    "    i=1\n",
    "    \n",
    "    prod=karatsuba()\n",
    "    \n",
    "    #6 etapte pour calcule le produit sous forme d'arbre inverse de 64 nombre primier \n",
    "    # En effet on a 64=2^6\n",
    "\n",
    "    while i <= 6:\n",
    "        \n",
    "        j=0\n",
    "        \n",
    "        while j < len(liste):\n",
    "            \n",
    "            mult.append(prod.multiply(liste[j],liste[j+1]))\n",
    "            \n",
    "            j+=2\n",
    "        \n",
    "        liste=mult\n",
    "        \n",
    "        mult=[]\n",
    "        \n",
    "        i+=1\n",
    "        \n",
    "    return mpz(liste[0])\n",
    "\n"
   ]
  },
  {
   "cell_type": "code",
   "execution_count": 11,
   "metadata": {},
   "outputs": [
    {
     "data": {
      "text/plain": [
       "'27b6b528ef52cebe59159ced77ee6fe85d6c8c7ed361b0a48b05b8a0d9056f64d12a0906b025c1b01c6535d0eee4e8f1b79602f4f252f768ce832e85cff5ad7d6fc23eaa8373e40bbf5032a2c439a2f27e1dd885e91e9d96c999bbfe412dc3917db81751ef85f3eb0b8eb506f57fc4964b2b3caf389a99f11ad94185b198546b68eef7abfae3d7a14197ec1aa4d2ae894fc6b591d720ea19819aa928631872f3634c1de374a32ea8fe487ffe0c58c03e1ddf7d92a96f2d0e13e32804f4e1e2984e8ed4c9030dc25ec5152191ec2ab6290153a20bf0dc74e0111ec3f54004e27ec1a7539d74245e946b91b0b895b7041d34937462695a949e3c4eede1712f84e115ce0119b5da600c9ac7bebd06b148051b87ae51510b01d8a3eb8b63d453ce5821645937540fddc24ac2e1cbc0d120c6dc260495b574db5a89fff4c08a8802632df18be96e8ba2094b63beeaab4843e464962252b49901b64e9e2718369d6a98d0333cf052037ca70e61c3872c42546b2199b262718b6e5e29394cd38fa7d03a62ebdd68af53b56ac3549da95a4624f8c61642650564580a202da06366ad0b584097c4b5a883692f02674996be3b0b858044da9c4ec93244aaea2fdd8c65e97bdd206288c66c1f599f05416f86ec4780d47c26135f4cc060d227750ee4f5a54a4800cef10424a1fbaaf7ba48256ee78b0db47a5ab'"
      ]
     },
     "execution_count": 11,
     "metadata": {},
     "output_type": "execute_result"
    }
   ],
   "source": [
    "N=public_key(_primes)\n",
    "N.digits(16)"
   ]
  },
  {
   "cell_type": "markdown",
   "metadata": {},
   "source": [
    "La cle sécrète de RSA post quantique et un concatenation de 3 chaines de taille KB bite à savoir \n",
    "\n",
    "- La concatenation de K nombre premier en binaire de taille B .\n",
    "\n",
    "- La concatenation de K nombre premier $p$ abentu avec l'opération  $(N/p)^{−1}\\mod p$ en binaire de taille B.\n",
    "- La chaine N en binaire."
   ]
  },
  {
   "cell_type": "code",
   "execution_count": 12,
   "metadata": {},
   "outputs": [],
   "source": [
    "def secrete_key(_primes,N):\n",
    "    # sk de taille 3k(B/8) byte\n",
    "    \n",
    "    sk=\"\".join([complet_bit(i,B) for i in _primes ])\n",
    "\n",
    "    sk+=\"\".join([complet_bit(gmpy2.invert(gmpy2.c_div(N,i),i),B) for i in _primes])\n",
    "\n",
    "    sk+=complet_bit(N,K*B)\n",
    "\n",
    "    return mpz(int(sk,base=2))"
   ]
  },
  {
   "cell_type": "code",
   "execution_count": 13,
   "metadata": {},
   "outputs": [
    {
     "data": {
      "text/plain": [
       "'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'"
      ]
     },
     "execution_count": 13,
     "metadata": {},
     "output_type": "execute_result"
    }
   ],
   "source": [
    "sk=secrete_key(_primes,N)\n",
    "sk.digits(16)"
   ]
  },
  {
   "cell_type": "markdown",
   "metadata": {},
   "source": [
    "# KEM "
   ]
  },
  {
   "cell_type": "markdown",
   "metadata": {},
   "source": [
    "Encapsulation de clé KEM permet de générer un une clé de session haché  et aléatoire, qui est ensuite chiffré puis envoyer."
   ]
  },
  {
   "cell_type": "code",
   "execution_count": 14,
   "metadata": {},
   "outputs": [],
   "source": [
    "def kem_encapsul(N):\n",
    "    x=np.random.bytes(K*(B/8))\n",
    "    \n",
    "    A=int(len(N.digits(2))/8)\n",
    "    \n",
    "    _r=x[0:(K*(B/8) -(A-2))]\n",
    "    \n",
    "    _r='0x'+_r.encode('hex')\n",
    "    \n",
    "    s = hashlib.shake_256()\n",
    "    \n",
    "    s.update(_r)\n",
    "    \n",
    "    h=s.hexdigest(int(32))\n",
    "    \n",
    "    r=mpz(int(h,16))\n",
    "    \n",
    "    print('key session :',r)\n",
    "    \n",
    "    c=gmpy2.powmod(r,3,N)\n",
    "    \n",
    "    _c=c.digits(16)\n",
    "    \n",
    "    print('cipher ',_c)\n",
    "    \n",
    "    return _c"
   ]
  },
  {
   "cell_type": "code",
   "execution_count": 15,
   "metadata": {},
   "outputs": [
    {
     "name": "stdout",
     "output_type": "stream",
     "text": [
      "('key session :', mpz(57802041336226007055502439940163269115154888405106415815067948664084575208053))\n",
      "('cipher ', '1fd8296a0baf028235b5e78f511aa2c96f98b1bde032c5ffe041a5ea2d2887c348d79972770f743a9a74a8d229caae3c42951b280114ede12f58f2491791973cbf5267c23e9fc25a434f2d08c790b6e6cbfa1abfc7d70e3fe5a7cd74e6eb864d')\n"
     ]
    }
   ],
   "source": [
    "c=kem_encapsul(N)"
   ]
  },
  {
   "cell_type": "markdown",
   "metadata": {},
   "source": [
    "Pour la décapsulation l'opération la plus fondamentale est de trouver la racine cubique modulo $N$.\n",
    "\n",
    "Si $C= h^{3} \\mod N $  avec h la clé de session à chiffré,la racine cubique de $C$ modulo $N$ est égale à $$ C^{\\frac{1+2\\prod{p-1}}{3}}\\mod N $$ Avec p des facteurs premiers de $N$ congru a 2 modulo 3."
   ]
  },
  {
   "cell_type": "code",
   "execution_count": 16,
   "metadata": {},
   "outputs": [],
   "source": [
    "def producttree(X):\n",
    "    result = [X]\n",
    "    \n",
    "    while len(X) > 1:\n",
    "        \n",
    "        X = [prod(X[i*2:(i+1)*2]) for i in range((len(X)+1)/2)]\n",
    "        \n",
    "        result.append(X)\n",
    "        \n",
    "    return result\n",
    "\n",
    "\n",
    "def kem_decapsul(c,sk):\n",
    "    _c=int(c,16)\n",
    "    \n",
    "    sk_bit=sk.digits(2)\n",
    "    \n",
    "    p=[mpz(int(sk_bit[i:64+i],2)) for i in range(0,K*B,64)]\n",
    "    \n",
    "    p_1=[i-1 for i in p]\n",
    "    \n",
    "    N_1=producttree(p_1)[-1]\n",
    "    \n",
    "    d=mpz((1+2*mpz(N_1[0]))/3)\n",
    "    \n",
    "    _r=gmpy2.powmod(_c,d,N)\n",
    "    \n",
    "    c=_r.digits(16)\n",
    "    return ('key session',_r)\n"
   ]
  },
  {
   "cell_type": "code",
   "execution_count": 17,
   "metadata": {},
   "outputs": [
    {
     "data": {
      "text/plain": [
       "('key session',\n",
       " mpz(57802041336226007055502439940163269115154888405106415815067948664084575208053))"
      ]
     },
     "execution_count": 17,
     "metadata": {},
     "output_type": "execute_result"
    }
   ],
   "source": [
    "kem_decapsul(c,sk)"
   ]
  },
  {
   "cell_type": "markdown",
   "metadata": {},
   "source": [
    "## Signature"
   ]
  },
  {
   "cell_type": "code",
   "execution_count": 18,
   "metadata": {},
   "outputs": [],
   "source": [
    "def sign(M,sk):\n",
    "    R=np.random.bytes(32)\n",
    "    \n",
    "    A=int(len(N.digits(2))/8)\n",
    "    \n",
    "    s = hashlib.shake_256()\n",
    "    \n",
    "    s.update(R+M)\n",
    "    \n",
    "    _y=s.hexdigest(int(A-1))\n",
    "    \n",
    "    y=mpz(int(_y,16))\n",
    "    \n",
    "    \n",
    "    sk_bit=sk.digits(2)\n",
    "    \n",
    "    p=[mpz(int(sk_bit[i:64+i],2)) for i in range(0,K*B,64)]\n",
    "    \n",
    "    p_1=[i-1 for i in p]\n",
    "    \n",
    "    N_1=producttree(p_1)[-1]\n",
    "    \n",
    "    d=mpz((1+2*mpz(N_1[0]))/3)\n",
    "    \n",
    "    x=gmpy2.powmod(y,d,N)\n",
    "    \n",
    "    _x=x.digits(16)\n",
    "    print('signature:',_x)\n",
    "    print('R:',R)\n",
    "    return (_x,R)\n",
    "    \n",
    "    \n",
    "    "
   ]
  },
  {
   "cell_type": "code",
   "execution_count": 19,
   "metadata": {},
   "outputs": [
    {
     "name": "stdout",
     "output_type": "stream",
     "text": [
      "('signature:', '1497854ca5274956c739e12921f85b2aac4042709537558ff05f03511892a4106a55200da753786186c8ca15178a40e1e949014f30903e75b29e88356e2b3e74df657c44ec49a0fd3d3252d4bf017dfd6d0ea08cbe0ee5104af9a9f8b5c725426c587e77f56ce44ee5a9475706972895c41c22926f0345e3b7ca42ac14a049f5b0e70f45fd11060196514a5d77e8dda8a84058986aa612c76d18bf8371f0e8d62922705d297f395217f390c77f4fa283428a294ae9db6dfb6c6f46e26fe37c65d0dfdf68477bdb6f8af815f4e29501a8bed4a7701493db5fd036e7de19fc14256ba97abd44e739f185610b336f615f1e6a3a02f6403c9e8aa8c4177cd72fd838d20dfdaef68f4811bcfe63f8f71bff7198893e750ee032e19d4fc8b4b4b574a5dbdafbb69efe6c7c8f2a66e209a70199f13ef56f12a91fad63dc2e781ed3cc506cc4c03067e7683bc2728a758a935c2c09cf7de03b0e0336ce07ed634b5761b0466bda57cff3488bb653f9841efc10722b7a8bfcb2165152d97821ee25c313f0ef37f196818a06990f4518839a005e81db352f12673d9e7ad3b3da73b51586553657a84bd34fbea332420ba6d1bf6dc457ed59f60640f4941582500c11a3ff61d08ebbb7c6a92f75e456d4ed8df0db861dda3364158a809a84f53abcd2155654b68dae28fc4c9fdde960eede057e98bc4f420f08a')\n",
      "('R:', '=\\xf6\\xfa\\x96t\\xad\\xca\\xecO(4\\x9d(^\\xa9mD\\x84\\xaa0\\xb1\\xac\\xab\\xa3\\x8d\\x8e\\xaa\\xbd@\\xcd\\x08\\xee')\n"
     ]
    }
   ],
   "source": [
    "S=sign('sign message ',sk)"
   ]
  },
  {
   "cell_type": "code",
   "execution_count": 22,
   "metadata": {},
   "outputs": [],
   "source": [
    "def verif_sign(M,S):\n",
    "    \n",
    "    s = hashlib.shake_256()\n",
    "    \n",
    "    s.update(S[1]+M)\n",
    "    \n",
    "    A=int(len(N.digits(2))/8)\n",
    "\n",
    "    _y=s.hexdigest(int(A-1))\n",
    "    \n",
    "    y=mpz(int(_y,16))\n",
    "    \n",
    "    x=mpz(int(S[0],16))\n",
    "    \n",
    "    _x=gmpy2.powmod(x,3,N)\n",
    "    \n",
    "    if _x==y:\n",
    "        print ('signature valide !')\n",
    "    else:\n",
    "        print('signature invalide !')"
   ]
  },
  {
   "cell_type": "code",
   "execution_count": 23,
   "metadata": {},
   "outputs": [
    {
     "name": "stdout",
     "output_type": "stream",
     "text": [
      "signature valide !\n"
     ]
    }
   ],
   "source": [
    "verif_sign('sign message ',S)"
   ]
  },
  {
   "cell_type": "code",
   "execution_count": null,
   "metadata": {},
   "outputs": [],
   "source": []
  }
 ],
 "metadata": {
  "kernelspec": {
   "display_name": "SageMath 8.8.rc1",
   "language": "sage",
   "name": "sagemath"
  },
  "language_info": {
   "codemirror_mode": {
    "name": "ipython",
    "version": 2
   },
   "file_extension": ".py",
   "mimetype": "text/x-python",
   "name": "python",
   "nbconvert_exporter": "python",
   "pygments_lexer": "ipython2",
   "version": "2.7.15"
  }
 },
 "nbformat": 4,
 "nbformat_minor": 2
}
